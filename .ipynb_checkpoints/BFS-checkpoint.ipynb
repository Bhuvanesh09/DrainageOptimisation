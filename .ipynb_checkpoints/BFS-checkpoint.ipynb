{
 "cells": [
  {
   "cell_type": "code",
   "execution_count": 86,
   "metadata": {},
   "outputs": [
    {
     "data": {
      "text/plain": [
       "[{'id': 13, 'flow': 10, 'source': 0, 'target': 1, 'col': 'red'},\n",
       " {'id': 14, 'flow': 6, 'source': 0, 'target': 4, 'col': 'red'},\n",
       " {'id': 15, 'flow': 15, 'source': 1, 'target': 2, 'col': 'red'},\n",
       " {'id': 16, 'flow': 30, 'source': 2, 'target': 4, 'col': 'red'},\n",
       " {'id': 17, 'flow': 7, 'source': 2, 'target': 5, 'col': 'red'},\n",
       " {'id': 18, 'flow': 10, 'source': 3, 'target': 2, 'col': 'red'},\n",
       " {'id': 19, 'flow': 15, 'source': 3, 'target': 6, 'col': 'red'},\n",
       " {'id': 20, 'flow': 8, 'source': 4, 'target': 3, 'col': 'red'},\n",
       " {'id': 21, 'flow': 25, 'source': 5, 'target': 7, 'col': 'red'},\n",
       " {'id': 22, 'flow': 17, 'source': 7, 'target': 6, 'col': 'red'}]"
      ]
     },
     "execution_count": 86,
     "metadata": {},
     "output_type": "execute_result"
    }
   ],
   "source": [
    "import json\n",
    "data = json.load(open('new.json'))\n",
    "data[1]"
   ]
  },
  {
   "cell_type": "code",
   "execution_count": 87,
   "metadata": {},
   "outputs": [
    {
     "data": {
      "text/plain": [
       "[{1, 4}, {2}, {4, 5}, {2, 6}, {3}, {7}, set(), {6}]"
      ]
     },
     "execution_count": 87,
     "metadata": {},
     "output_type": "execute_result"
    }
   ],
   "source": [
    "ls = []\n",
    "msx = data[0][-1]['id']\n",
    "lotsosets=[set() for i in range(msx+1)]\n",
    "for i in data[1]:\n",
    "    lotsosets[i['source']].add(i['target'])\n",
    "lotsosets"
   ]
  },
  {
   "cell_type": "code",
   "execution_count": 88,
   "metadata": {},
   "outputs": [
    {
     "data": {
      "text/plain": [
       "{0: {1, 4}, 1: {2}, 2: {4, 5}, 3: {2, 6}, 4: {3}, 5: {7}, 6: set(), 7: {6}}"
      ]
     },
     "execution_count": 88,
     "metadata": {},
     "output_type": "execute_result"
    }
   ],
   "source": [
    "graph = {i: lotsosets[i] for i in range(msx + 1)}\n",
    "# Generation of the Graph Wanted\n",
    "graph"
   ]
  },
  {
   "cell_type": "code",
   "execution_count": 89,
   "metadata": {},
   "outputs": [],
   "source": [
    "def dfs_paths(graph, start, goal, path=None):\n",
    "    if path is None:\n",
    "        path = [start]\n",
    "    if start == goal:\n",
    "        yield path\n",
    "    for next in graph[start] - set(path):\n",
    "        yield from dfs_paths(graph, next, goal, path + [next])\n",
    "\n",
    "fin = list(dfs_paths(graph, 2, 6))"
   ]
  },
  {
   "cell_type": "code",
   "execution_count": 90,
   "metadata": {},
   "outputs": [
    {
     "data": {
      "text/plain": [
       "[[[0, 1], 10],\n",
       " [[0, 4], 6],\n",
       " [[1, 2], 15],\n",
       " [[2, 4], 30],\n",
       " [[2, 5], 7],\n",
       " [[3, 2], 10],\n",
       " [[3, 6], 15],\n",
       " [[4, 3], 8],\n",
       " [[5, 7], 25],\n",
       " [[7, 6], 17]]"
      ]
     },
     "execution_count": 90,
     "metadata": {},
     "output_type": "execute_result"
    }
   ],
   "source": [
    "ls = []\n",
    "for i in data[1]:\n",
    "    ls.append([[i['source'],i['target']],i['flow']])\n",
    "ls"
   ]
  },
  {
   "cell_type": "code",
   "execution_count": 97,
   "metadata": {},
   "outputs": [],
   "source": [
    "mina = 1000\n",
    "for i in fin:\n",
    "    for j in ls:\n",
    "        if i[-2:] == j[0]:\n",
    "            if mina > j[1]:\n",
    "                mina = j[1]\n",
    "                es = i"
   ]
  },
  {
   "cell_type": "code",
   "execution_count": 98,
   "metadata": {},
   "outputs": [
    {
     "data": {
      "text/plain": [
       "[2, 4, 3, 6]"
      ]
     },
     "execution_count": 98,
     "metadata": {},
     "output_type": "execute_result"
    }
   ],
   "source": [
    "es"
   ]
  },
  {
   "cell_type": "code",
   "execution_count": 99,
   "metadata": {},
   "outputs": [],
   "source": [
    "put = json.load(open('out.json'))"
   ]
  },
  {
   "cell_type": "code",
   "execution_count": 102,
   "metadata": {},
   "outputs": [],
   "source": [
    "for i in range(len(es) - 1):\n",
    "    for j in put[1]:\n",
    "        if es[i] == j['source'] and es[i+1] == j['target']:\n",
    "            j['col'] = \"blue\""
   ]
  },
  {
   "cell_type": "code",
   "execution_count": 103,
   "metadata": {},
   "outputs": [
    {
     "data": {
      "text/plain": [
       "[[{'id': 0, 'size': 100, 'fill': 15, 'x': 300, 'y': 60},\n",
       "  {'id': 1, 'size': 100, 'fill': 15, 'x': 500, 'y': 60},\n",
       "  {'id': 2, 'size': 100, 'fill': 15, 'x': 200, 'y': 260},\n",
       "  {'id': 3, 'size': 100, 'fill': 15, 'x': 600, 'y': 260},\n",
       "  {'id': 4, 'size': 100, 'fill': 15, 'x': 100, 'y': 260},\n",
       "  {'id': 5, 'size': 100, 'fill': 15, 'x': 500, 'y': 260},\n",
       "  {'id': 6, 'size': 100, 'fill': 15, 'x': 250, 'y': 260},\n",
       "  {'id': 7, 'size': 100, 'fill': 15, 'x': 700, 'y': 260}],\n",
       " [{'id': 13, 'flow': 10, 'source': 0, 'target': 1, 'col': 'red'},\n",
       "  {'id': 14, 'flow': 6, 'source': 0, 'target': 4, 'col': 'red'},\n",
       "  {'id': 15, 'flow': 15, 'source': 1, 'target': 2, 'col': 'red'},\n",
       "  {'id': 16, 'flow': 30, 'source': 2, 'target': 4, 'col': 'blue'},\n",
       "  {'id': 17, 'flow': 7, 'source': 2, 'target': 5, 'col': 'red'},\n",
       "  {'id': 18, 'flow': 10, 'source': 3, 'target': 2, 'col': 'red'},\n",
       "  {'id': 19, 'flow': 15, 'source': 3, 'target': 6, 'col': 'blue'},\n",
       "  {'id': 20, 'flow': 8, 'source': 4, 'target': 3, 'col': 'blue'},\n",
       "  {'id': 21, 'flow': 25, 'source': 5, 'target': 7, 'col': 'red'},\n",
       "  {'id': 22, 'flow': 17, 'source': 7, 'target': 6, 'col': 'red'}]]"
      ]
     },
     "execution_count": 103,
     "metadata": {},
     "output_type": "execute_result"
    }
   ],
   "source": [
    "put"
   ]
  }
 ],
 "metadata": {
  "kernelspec": {
   "display_name": "Python 3",
   "language": "python",
   "name": "python3"
  },
  "language_info": {
   "codemirror_mode": {
    "name": "ipython",
    "version": 3
   },
   "file_extension": ".py",
   "mimetype": "text/x-python",
   "name": "python",
   "nbconvert_exporter": "python",
   "pygments_lexer": "ipython3",
   "version": "3.7.4"
  }
 },
 "nbformat": 4,
 "nbformat_minor": 2
}
